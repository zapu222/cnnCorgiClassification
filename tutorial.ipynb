{
 "cells": [
  {
   "cell_type": "markdown",
   "metadata": {},
   "source": [
    "# Corgi Classification with CNN's\n",
    "### By Zachary Pulliam\n",
    "\n",
    "This notebook can be used to perform images classification on images of Corgis to determine if they are Cardigans or Pembrokes. The notebook will do this by carrying out the following steps...\n",
    "\n",
    "1. Load the Corgi dataset\n",
    "2. Create a CNN\n",
    "3. Train the CNN\n",
    "4. Test the CNN"
   ]
  },
  {
   "cell_type": "code",
   "execution_count": 97,
   "metadata": {},
   "outputs": [],
   "source": [
    "# Libraries needed\n",
    "\n",
    "import torch\n",
    "\n",
    "from torch import nn, optim\n",
    "import matplotlib.pyplot as plt\n",
    "from torch.utils.data import DataLoader\n",
    "\n",
    "from cnn import CNN\n",
    "from dataset import CorgiImages"
   ]
  },
  {
   "cell_type": "code",
   "execution_count": 98,
   "metadata": {},
   "outputs": [],
   "source": [
    "# Paths to data\n",
    "\n",
    "train_path = \"...\\\\data\\\\training_data\"\n",
    "test_path = \"...\\\\data\\\\testing_data\""
   ]
  },
  {
   "cell_type": "code",
   "execution_count": 99,
   "metadata": {},
   "outputs": [],
   "source": [
    "# Create dataset and dataloader\n",
    "\n",
    "trainset = CorgiImages(train_path)\n",
    "testset = CorgiImages(test_path, test=True)\n",
    "\n",
    "trainloader = DataLoader(trainset, batch_size=16, shuffle=True)\n",
    "testloader = DataLoader(testset, batch_size=40, shuffle=True)"
   ]
  },
  {
   "cell_type": "code",
   "execution_count": 100,
   "metadata": {},
   "outputs": [
    {
     "data": {
      "text/plain": [
       "CNN(\n",
       "  (layer1): Sequential(\n",
       "    (0): Conv2d(3, 32, kernel_size=(3, 3), stride=(2, 2))\n",
       "    (1): ReLU()\n",
       "    (2): MaxPool2d(kernel_size=2, stride=2, padding=0, dilation=1, ceil_mode=False)\n",
       "    (3): Dropout(p=0.050000000000000044, inplace=False)\n",
       "  )\n",
       "  (layer2): Sequential(\n",
       "    (0): Conv2d(32, 64, kernel_size=(3, 3), stride=(1, 1))\n",
       "    (1): ReLU()\n",
       "    (2): MaxPool2d(kernel_size=2, stride=2, padding=0, dilation=1, ceil_mode=False)\n",
       "    (3): Dropout(p=0.050000000000000044, inplace=False)\n",
       "  )\n",
       "  (layer3): Sequential(\n",
       "    (0): Conv2d(64, 128, kernel_size=(3, 3), stride=(1, 1))\n",
       "    (1): ReLU()\n",
       "    (2): MaxPool2d(kernel_size=2, stride=2, padding=0, dilation=1, ceil_mode=False)\n",
       "    (3): Dropout(p=0.050000000000000044, inplace=False)\n",
       "  )\n",
       "  (fc1): Linear(in_features=41472, out_features=512, bias=True)\n",
       "  (fc2): Linear(in_features=512, out_features=256, bias=True)\n",
       "  (fc3): Linear(in_features=256, out_features=2, bias=True)\n",
       ")"
      ]
     },
     "execution_count": 100,
     "metadata": {},
     "output_type": "execute_result"
    }
   ],
   "source": [
    "# Create model\n",
    "\n",
    "model = CNN().to(\"cuda\")\n",
    "model"
   ]
  },
  {
   "cell_type": "code",
   "execution_count": 78,
   "metadata": {},
   "outputs": [],
   "source": [
    "# Define paramerters\n",
    "\n",
    "epochs = 200\n",
    "lr = 0.01"
   ]
  },
  {
   "cell_type": "code",
   "execution_count": 79,
   "metadata": {},
   "outputs": [
    {
     "name": "stdout",
     "output_type": "stream",
     "text": [
      "Epoch: 1 of 200\n",
      "Average Loss: 0.75331\n",
      "\n",
      "Epoch: 50 of 200\n",
      "Average Loss: 0.31974\n",
      "\n",
      "Epoch: 100 of 200\n",
      "Average Loss: 0.16304\n",
      "\n",
      "Epoch: 150 of 200\n",
      "Average Loss: 0.13681\n",
      "\n",
      "Epoch: 200 of 200\n",
      "Average Loss: 0.11996\n",
      "\n"
     ]
    }
   ],
   "source": [
    "# Train the model\n",
    "\n",
    "criterion = nn.CrossEntropyLoss()\n",
    "optimizer = optim.SGD(model.parameters(), lr=lr)\n",
    "\n",
    "avg_loss = []\n",
    "for epoch in range(epochs):\n",
    "    if epoch == 0 or (epoch + 1) % 50 == 0:\n",
    "        print(f\"Epoch: {epoch + 1} of {epochs}\")\n",
    "    \n",
    "    running_loss = []\n",
    "\n",
    "    for _, data in enumerate(trainloader, 0):\n",
    "        inputs, labels = data\n",
    "        inputs, labels = inputs.cuda(), labels.cuda()\n",
    "\n",
    "        optimizer.zero_grad()\n",
    "\n",
    "        outputs = model(inputs)\n",
    "        loss = criterion(outputs, labels.squeeze())\n",
    "        loss.backward()\n",
    "        optimizer.step()\n",
    "\n",
    "        running_loss.append(loss.item())\n",
    "\n",
    "    if epoch == 0 or (epoch + 1) % 50 == 0:\n",
    "        print(f\"Average Loss: {round(sum(running_loss) / len(running_loss), 5)}\\n\")\n",
    "        \n",
    "    avg_loss.append(sum(running_loss) / len(running_loss))"
   ]
  },
  {
   "cell_type": "code",
   "execution_count": 80,
   "metadata": {},
   "outputs": [
    {
     "data": {
      "image/png": "[encoded data removed]",
      "text/plain": [
       "<Figure size 432x288 with 1 Axes>"
      ]
     },
     "metadata": {
      "needs_background": "light"
     },
     "output_type": "display_data"
    }
   ],
   "source": [
    "# Graph loss values\n",
    "\n",
    "xs = [x for x in range(len(avg_loss))]\n",
    "\n",
    "plt.plot(xs, avg_loss)\n",
    "plt.xlabel('Epoch')\n",
    "plt.ylabel('Average Loss')\n",
    "plt.show()\n",
    "plt.close()"
   ]
  },
  {
   "cell_type": "code",
   "execution_count": 95,
   "metadata": {},
   "outputs": [
    {
     "name": "stdout",
     "output_type": "stream",
     "text": [
      "\n",
      "Accuracy on 40 test images: 80 %\n",
      "\n"
     ]
    }
   ],
   "source": [
    "# Test the model\n",
    "\n",
    "correct = 0\n",
    "total = 0\n",
    "\n",
    "with torch.no_grad():\n",
    "    for data in testloader:\n",
    "        inputs, labels = data\n",
    "        inputs, labels = inputs.cuda(), labels.cuda()\n",
    "\n",
    "        outputs = model(inputs)\n",
    "\n",
    "        _, labels = torch.max(labels.squeeze().data, 1)\n",
    "        _, predicted = torch.max(outputs.data, 1)\n",
    "        total += labels.size(0)\n",
    "        correct += (predicted == labels).sum().item()\n",
    "\n",
    "print(f\"\\nAccuracy on {total} test images: {100 * correct // total} %\\n\")"
   ]
  },
  {
   "cell_type": "code",
   "execution_count": null,
   "metadata": {},
   "outputs": [],
   "source": []
  }
 ],
 "metadata": {
  "interpreter": {
   "hash": "61b34710fba8d2af9897c9ccbb09a72e747e24007326106fdb3c6a8860bec5aa"
  },
  "kernelspec": {
   "display_name": "Python 3.9.7 ('main')",
   "language": "python",
   "name": "python3"
  },
  "language_info": {
   "codemirror_mode": {
    "name": "ipython",
    "version": 3
   },
   "file_extension": ".py",
   "mimetype": "text/x-python",
   "name": "python",
   "nbconvert_exporter": "python",
   "pygments_lexer": "ipython3",
   "version": "3.9.7"
  },
  "orig_nbformat": 4
 },
 "nbformat": 4,
 "nbformat_minor": 2
}
